{
 "cells": [
  {
   "cell_type": "markdown",
   "id": "7b54b7a9-714f-4260-9fac-0089b971b1c9",
   "metadata": {},
   "source": [
    "## 使用spark处理数据"
   ]
  },
  {
   "cell_type": "code",
   "execution_count": 2,
   "id": "0eca47b4-a2d1-44d9-ba1b-b8cd036712ec",
   "metadata": {},
   "outputs": [],
   "source": [
    "from pyspark.sql import SparkSession"
   ]
  },
  {
   "cell_type": "code",
   "execution_count": 3,
   "id": "467609e4-f41c-460a-9b90-e102d1218134",
   "metadata": {},
   "outputs": [
    {
     "name": "stderr",
     "output_type": "stream",
     "text": [
      "WARNING: Using incubator modules: jdk.incubator.vector\n",
      "Using Spark's default log4j profile: org/apache/spark/log4j2-defaults.properties\n",
      "Setting default log level to \"WARN\".\n",
      "To adjust logging level use sc.setLogLevel(newLevel). For SparkR, use setLogLevel(newLevel).\n",
      "25/06/29 15:56:00 WARN NativeCodeLoader: Unable to load native-hadoop library for your platform... using builtin-java classes where applicable\n"
     ]
    }
   ],
   "source": [
    "spark=SparkSession.builder \\\n",
    ".appName('test') \\\n",
    ".master('local[*]') \\\n",
    ".config(\"spark.driver.memory\", \"8g\") \\\n",
    ".config(\"spark.executor.memory\", \"16g\") \\\n",
    ".getOrCreate()"
   ]
  },
  {
   "cell_type": "code",
   "execution_count": 6,
   "id": "ad6c77f6-7ee3-4e60-8cfd-14acca608e42",
   "metadata": {},
   "outputs": [],
   "source": [
    "topic=spark.read.csv('data/train.csv',header=True)"
   ]
  },
  {
   "cell_type": "code",
   "execution_count": 9,
   "id": "793c1499-2e45-443a-b36f-d4934064f951",
   "metadata": {},
   "outputs": [
    {
     "data": {
      "text/plain": [
       "DataFrame[文件名: string, 1小时热度: string, 2小时热度: string, 3小时热度: string, 4小时热度: string, 6小时热度: string, 9小时热度: string, 总热度: string, 严重系数1小时: string, 严重系数2小时: string, 严重系数3小时: string, 严重程度: string, 话题倾向: string, 敏感程度: string, 紧急程度: string, 影响范围: string]"
      ]
     },
     "execution_count": 9,
     "metadata": {},
     "output_type": "execute_result"
    }
   ],
   "source": [
    "topic"
   ]
  },
  {
   "cell_type": "code",
   "execution_count": 12,
   "id": "587174d9-9c9d-4cab-b1e8-48d328e51d72",
   "metadata": {},
   "outputs": [
    {
     "name": "stdout",
     "output_type": "stream",
     "text": [
      "赵露思澳门活动造型.csv\n",
      "DataFrame[id: string, bid: string, user_id: string, 用户昵称: string, 微博正文: string, 头条文章url: string, 发布位置: string, 艾特用户: string, 话题: string, 转发数: string, 评论数: string, 点赞数: string, 发布时间: string, 发布工具: string, 微博图片url: string, 微博视频url: string, retweet_id: string, ip: string, Answer: string]\n"
     ]
    }
   ],
   "source": [
    "import os\n",
    "\n",
    "data_path='data/立场检测_train'\n",
    "\n",
    "for p in os.listdir(data_path):\n",
    "    print(p)\n",
    "    data=spark.read.csv(os.path.join(data_path,p),header=True)\n",
    "    print(data)\n",
    "    break"
   ]
  },
  {
   "cell_type": "code",
   "execution_count": null,
   "id": "7e9484a1-e847-42cf-81ed-632947ab54d2",
   "metadata": {},
   "outputs": [],
   "source": []
  }
 ],
 "metadata": {
  "kernelspec": {
   "display_name": "dataninja",
   "language": "python",
   "name": "dataninja"
  },
  "language_info": {
   "codemirror_mode": {
    "name": "ipython",
    "version": 3
   },
   "file_extension": ".py",
   "mimetype": "text/x-python",
   "name": "python",
   "nbconvert_exporter": "python",
   "pygments_lexer": "ipython3",
   "version": "3.11.13"
  }
 },
 "nbformat": 4,
 "nbformat_minor": 5
}
